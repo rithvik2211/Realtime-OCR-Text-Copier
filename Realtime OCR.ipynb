{
 "cells": [
  {
   "cell_type": "markdown",
   "id": "65188279-0506-48bb-8f97-a0eab7d17ab3",
   "metadata": {},
   "source": [
    "## Importing required libraries "
   ]
  },
  {
   "cell_type": "code",
   "execution_count": 4,
   "id": "3b57c313-2648-4296-b7bd-d363f5e246e0",
   "metadata": {
    "tags": []
   },
   "outputs": [],
   "source": [
    "import cv2\n",
    "import time\n",
    "import pytesseract\n",
    "import numpy as np\n",
    "from PIL import ImageGrab\n",
    "from PIL import Image\n",
    "import argparse\n",
    "import win32gui\n",
    "pytesseract.pytesseract.tesseract_cmd = r'C:\\\\Program Files\\\\Tesseract-OCR\\\\tesseract.exe'"
   ]
  },
  {
   "cell_type": "markdown",
   "id": "ebe22113-88aa-4e1a-b479-3616a3f71556",
   "metadata": {},
   "source": [
    "## Initializing camera capture"
   ]
  },
  {
   "cell_type": "code",
   "execution_count": 9,
   "id": "4b7c943d-52b8-4a7f-8412-8d22afbff77d",
   "metadata": {
    "tags": []
   },
   "outputs": [],
   "source": [
    "cam = cv2.VideoCapture('http://192.168.29.247:8080/video')"
   ]
  },
  {
   "cell_type": "code",
   "execution_count": 10,
   "id": "658dfe98-a0e5-494c-b434-357fa07c1cce",
   "metadata": {},
   "outputs": [],
   "source": [
    "\n",
    "prev_frame_time = 0\n",
    "new_frame_time = 0\n",
    "calc_timestamps = [0.0]\n",
    "file_path = \"text_from_img.txt\" \n",
    "\n",
    "while True:\n",
    "    if cam.isOpened():\n",
    "        ret, frame = cam.read()\n",
    "        resized = cv2.resize(frame, (600, 400))\n",
    "        if ret:\n",
    "            cv2.imshow(\"frame\", resized)\n",
    "\n",
    "            img = np.array(resized)\n",
    "            gray = cv2.cvtColor(img, cv2.COLOR_BGR2GRAY)\n",
    "            edges = cv2.Canny(gray, threshold1=50, threshold2=150)\n",
    "            temp = pytesseract.image_to_string(edges)\n",
    "            \n",
    "            try:\n",
    "                # Open the file in append mode ('a')\n",
    "                with open(file_path, 'a') as file:\n",
    "                    file.write(temp)  # Write the content to the file\n",
    "            except FileNotFoundError:\n",
    "                # File does not exist, create a new file and write to it\n",
    "                with open(file_path, 'w') as file:\n",
    "                    file.write(temp)  # Write the content to the file\n",
    "\n",
    "        else:\n",
    "            print(\"Error: Cannot read from camera \")\n",
    "    else:\n",
    "        current_reconnect_attempt += 1\n",
    "        print(f'Camera is offline. Attempting to reconnect ({current_reconnect_attempt}/{max_reconnect_attempts})...')\n",
    "        camera.release()\n",
    "        time.sleep(1)  # Wait for a second before attempting to reconnect\n",
    "        cam = cv2.VideoCapture(camera_index)\n",
    "        \n",
    "    key =cv2.waitKey(1) #initializing keyboard interrupt\n",
    "    if key == ord(\"q\"):\n",
    "        break\n",
    "    \n",
    "cam.release()\n",
    "cv2.destroyAllWindows()"
   ]
  },
  {
   "cell_type": "code",
   "execution_count": null,
   "id": "1d4c4ca8-c071-4cf8-aa74-ce1c26878d17",
   "metadata": {},
   "outputs": [],
   "source": []
  },
  {
   "cell_type": "code",
   "execution_count": null,
   "id": "e2a5a021-7d31-4c31-b2d0-e027ad397898",
   "metadata": {},
   "outputs": [],
   "source": []
  }
 ],
 "metadata": {
  "kernelspec": {
   "display_name": "Python 3 (ipykernel)",
   "language": "python",
   "name": "python3"
  },
  "language_info": {
   "codemirror_mode": {
    "name": "ipython",
    "version": 3
   },
   "file_extension": ".py",
   "mimetype": "text/x-python",
   "name": "python",
   "nbconvert_exporter": "python",
   "pygments_lexer": "ipython3",
   "version": "3.11.1"
  }
 },
 "nbformat": 4,
 "nbformat_minor": 5
}

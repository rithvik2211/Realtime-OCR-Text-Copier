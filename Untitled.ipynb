{
 "cells": [
  {
   "cell_type": "markdown",
   "id": "65188279-0506-48bb-8f97-a0eab7d17ab3",
   "metadata": {},
   "source": [
    "## Importing required libraries "
   ]
  },
  {
   "cell_type": "code",
   "execution_count": 1,
   "id": "3b57c313-2648-4296-b7bd-d363f5e246e0",
   "metadata": {
    "tags": []
   },
   "outputs": [],
   "source": [
    "import cv2\n",
    "import time\n"
   ]
  },
  {
   "cell_type": "markdown",
   "id": "ebe22113-88aa-4e1a-b479-3616a3f71556",
   "metadata": {},
   "source": [
    "## Initializing camera capture"
   ]
  },
  {
   "cell_type": "code",
   "execution_count": 7,
   "id": "4b7c943d-52b8-4a7f-8412-8d22afbff77d",
   "metadata": {
    "tags": []
   },
   "outputs": [],
   "source": [
    "cam = cv2.VideoCapture('http://192.168.29.247:8080/video')"
   ]
  },
  {
   "cell_type": "code",
   "execution_count": 8,
   "id": "658dfe98-a0e5-494c-b434-357fa07c1cce",
   "metadata": {},
   "outputs": [
    {
     "ename": "error",
     "evalue": "OpenCV(4.7.0) D:\\a\\opencv-python\\opencv-python\\opencv\\modules\\imgproc\\src\\resize.cpp:4062: error: (-215:Assertion failed) !ssize.empty() in function 'cv::resize'\n",
     "output_type": "error",
     "traceback": [
      "\u001b[1;31m---------------------------------------------------------------------------\u001b[0m",
      "\u001b[1;31merror\u001b[0m                                     Traceback (most recent call last)",
      "Cell \u001b[1;32mIn[8], line 8\u001b[0m\n\u001b[0;32m      6\u001b[0m \u001b[38;5;28;01mif\u001b[39;00m cam\u001b[38;5;241m.\u001b[39misOpened():\n\u001b[0;32m      7\u001b[0m     ret, frame \u001b[38;5;241m=\u001b[39m cam\u001b[38;5;241m.\u001b[39mread()\n\u001b[1;32m----> 8\u001b[0m     resized \u001b[38;5;241m=\u001b[39m \u001b[43mcv2\u001b[49m\u001b[38;5;241;43m.\u001b[39;49m\u001b[43mresize\u001b[49m\u001b[43m(\u001b[49m\u001b[43mframe\u001b[49m\u001b[43m,\u001b[49m\u001b[43m \u001b[49m\u001b[43m(\u001b[49m\u001b[38;5;241;43m600\u001b[39;49m\u001b[43m,\u001b[49m\u001b[43m \u001b[49m\u001b[38;5;241;43m400\u001b[39;49m\u001b[43m)\u001b[49m\u001b[43m)\u001b[49m\n\u001b[0;32m      9\u001b[0m     \u001b[38;5;28;01mif\u001b[39;00m ret:\n\u001b[0;32m     10\u001b[0m         cv2\u001b[38;5;241m.\u001b[39mimshow(\u001b[38;5;124m\"\u001b[39m\u001b[38;5;124mframe\u001b[39m\u001b[38;5;124m\"\u001b[39m, resized)\n",
      "\u001b[1;31merror\u001b[0m: OpenCV(4.7.0) D:\\a\\opencv-python\\opencv-python\\opencv\\modules\\imgproc\\src\\resize.cpp:4062: error: (-215:Assertion failed) !ssize.empty() in function 'cv::resize'\n"
     ]
    }
   ],
   "source": [
    "\n",
    "prev_frame_time = 0\n",
    "  \n",
    "new_frame_time = 0\n",
    "calc_timestamps = [0.0]\n",
    "while True:\n",
    "    if cam.isOpened():\n",
    "        ret, frame = cam.read()\n",
    "        resized = cv2.resize(frame, (600, 400))\n",
    "        if ret:\n",
    "            cv2.imshow(\"frame\", resized)\n",
    "        else:\n",
    "            print(\"Error: Cannot read from camera \")\n",
    "    else:\n",
    "        current_reconnect_attempt += 1\n",
    "        print(f'Camera is offline. Attempting to reconnect ({current_reconnect_attempt}/{max_reconnect_attempts})...')\n",
    "        camera.release()\n",
    "        time.sleep(1)  # Wait for a second before attempting to reconnect\n",
    "        cam = cv2.VideoCapture(camera_index)\n",
    "        \n",
    "    key =cv2.waitKey(1)\n",
    "    if key == ord(\"q\"):\n",
    "        break\n",
    "    \n",
    "    \n",
    "        \n",
    "cam.release()\n",
    "cv2.destroyAllWindows()"
   ]
  },
  {
   "cell_type": "code",
   "execution_count": null,
   "id": "1d4c4ca8-c071-4cf8-aa74-ce1c26878d17",
   "metadata": {},
   "outputs": [],
   "source": []
  },
  {
   "cell_type": "code",
   "execution_count": null,
   "id": "e2a5a021-7d31-4c31-b2d0-e027ad397898",
   "metadata": {},
   "outputs": [],
   "source": []
  }
 ],
 "metadata": {
  "kernelspec": {
   "display_name": "Python 3 (ipykernel)",
   "language": "python",
   "name": "python3"
  },
  "language_info": {
   "codemirror_mode": {
    "name": "ipython",
    "version": 3
   },
   "file_extension": ".py",
   "mimetype": "text/x-python",
   "name": "python",
   "nbconvert_exporter": "python",
   "pygments_lexer": "ipython3",
   "version": "3.11.1"
  }
 },
 "nbformat": 4,
 "nbformat_minor": 5
}
